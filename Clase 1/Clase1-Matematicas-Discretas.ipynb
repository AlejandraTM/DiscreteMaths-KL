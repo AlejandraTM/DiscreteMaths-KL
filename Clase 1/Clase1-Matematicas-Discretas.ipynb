{
 "cells": [
  {
   "cell_type": "markdown",
   "metadata": {
    "slideshow": {
     "slide_type": "slide"
    }
   },
   "source": [
    "<center><h1>😜 Matemáticas Discretas 2020-2 😷</h1></center>\n",
    "<center><h2>¡Bienvenidos!</h2></center>"
   ]
  },
  {
   "cell_type": "markdown",
   "metadata": {
    "slideshow": {
     "slide_type": "fragment"
    }
   },
   "source": [
    "<img src=\"MD.png\" align=\"left\" width=\"400\" height=\"400\">\n",
    "<br></br>\n",
    "<br></br>\n",
    "&nbsp;&nbsp;&nbsp;&nbsp;&nbsp;&nbsp;&nbsp;&nbsp;&nbsp;&nbsp;&#128218;&nbsp;&nbsp;&nbsp;Presentación del docente.<br>\n",
    "&nbsp;&nbsp;&nbsp;&nbsp;&nbsp;&nbsp;&nbsp;&nbsp;&nbsp;&nbsp;&#128218;&nbsp;&nbsp;&nbsp;¿Qué son las matemáticas discretas y en qué se aplican?<br>\n",
    "&nbsp;&nbsp;&nbsp;&nbsp;&nbsp;&nbsp;&nbsp;&nbsp;&nbsp;&nbsp;&#128218;&nbsp;&nbsp;&nbsp;Actividades y calificaciones para el semestre.<br>\n",
    "<br></br>\n",
    "<h4>&nbsp;&nbsp;&nbsp;&nbsp;&nbsp;&nbsp;&nbsp;&nbsp;&nbsp;&nbsp; ¡Iniciemos! 🚀</h4>"
   ]
  },
  {
   "cell_type": "markdown",
   "metadata": {
    "slideshow": {
     "slide_type": "slide"
    }
   },
   "source": [
    "<center><h2>Presentación</h2></center>\n",
    "\n",
    "<table>\n",
    "<tbody>\n",
    "<tr>\n",
    "<td>\n",
    "<img src=\"Yo5.jpeg\" align=\"left\" width=\"300\" height=\"200\">\n",
    "</td>\n",
    "<td>\n",
    "    <p>&#9995;&nbsp;¡Hola! Mi nombre es Alejandra Torres Manotas</p>\n",
    "    <p>&#127922;&nbsp;Soy matemática de la KL</p>\n",
    "    <p>&#127922;&nbsp;Tengo una maestría en matemáticas aplicadas y física matemática de la UASLP.</p>\n",
    "    <p>&#128218;&nbsp;Soy investigadora en Sistemas Dinámicos y Mecánica Celeste.</p>\n",
    "</td>\n",
    "</tr>\n",
    "</tbody>\n",
    "</table>"
   ]
  },
  {
   "cell_type": "markdown",
   "metadata": {
    "slideshow": {
     "slide_type": "slide"
    }
   },
   "source": [
    "<h1>¿Qué son las matemáticas discretas?</h1>"
   ]
  },
  {
   "cell_type": "markdown",
   "metadata": {
    "slideshow": {
     "slide_type": "fragment"
    }
   },
   "source": [
    "\n",
    "<table>\n",
    "<tbody>\n",
    "<tr>\n",
    "<td>\n",
    "    <img src=\"tenor.gif\" align=\"left\">\n",
    "</td>\n",
    "<td>\n",
    "<p><center>Las matemáticas discretas son un área de las matemáticas que estudia conjuntos en los que es posible contar el número de elementos.</center></p>\n",
    "<p><center>No necesariamente son conjuntos finitos.</center></p>\n",
    "</td>\n",
    "</tr>\n",
    "</tbody>\n",
    "</table>\n"
   ]
  },
  {
   "cell_type": "markdown",
   "metadata": {
    "slideshow": {
     "slide_type": "fragment"
    }
   },
   "source": [
    "\n",
    "<table>\n",
    "<tbody>\n",
    "<tr>\n",
    "<td>\n",
    "<h3 align=\"left\">Ejemplos:</h3>\n",
    "\n",
    "<p align=\"left\">&#128163; El número de estaciones en el mapa de Trasmilenio.</p>\n",
    "\n",
    "<p align=\"left\">&#128163;El número de rutas para llegar de una estación a otra en el mapa de Trasmilenio.</p>\n",
    "\n",
    "<p align=\"left\">&#128163;El número de pasos para armar el Cubo de Rubik.</p>\n",
    "</td>\n",
    "<td>\n",
    "<img src=\"Rubik.gif\" align=\"right\">\n",
    "</td>\n",
    "</tr>\n",
    "</tbody>\n",
    "</table>\n",
    "\n",
    "\n"
   ]
  },
  {
   "cell_type": "markdown",
   "metadata": {
    "slideshow": {
     "slide_type": "subslide"
    }
   },
   "source": [
    "<h1>Aplicación de las matemáticas discretas.</h1>\n",
    "\n",
    "<table>\n",
    "<tbody>\n",
    "<tr>\n",
    "<td>\n",
    "    <img src=\"computacion.png\" align=\"left\">\n",
    "</td>\n",
    "<td>\n",
    "    <img src=\"informacion.png\" align=\"right\">\n",
    "</td>\n",
    "</tr>\n",
    "<tbody>\n",
    "<tr>\n",
    "<td>\n",
    "    <img src=\"InvestigacionOp.png\" align=\"left\">\n",
    "</td>\n",
    "<td>\n",
    "    <img src=\"probabilidad.png\" align=\"right\">\n",
    "</td>\n",
    "</tr>\n",
    "</tbody>\n",
    "</table>\n",
    "\n"
   ]
  },
  {
   "cell_type": "markdown",
   "metadata": {
    "slideshow": {
     "slide_type": "subslide"
    }
   },
   "source": [
    "<h1>Aplicación de las matemáticas discretas.</h1>\n",
    "\n",
    "<h3>Otras áreas en las que se aplican las matemáticas discretas:</h3>\n",
    "\n",
    "<table>\n",
    "    <tbody>\n",
    "    <tr>\n",
    "    <td>\n",
    "    <p align=\"left\">&nbsp;&nbsp;&nbsp;&nbsp;&nbsp;&nbsp;&nbsp;&nbsp;&nbsp;&nbsp;&nbsp;&nbsp;&#127760; Teoría de conjuntos.<br>\n",
    "    &nbsp;&nbsp;&nbsp;&nbsp;&nbsp;&nbsp;&nbsp;&nbsp;&nbsp;&nbsp;&nbsp;&nbsp;&#127760; Teoría de grafos.<br>\n",
    "    &nbsp;&nbsp;&nbsp;&nbsp;&nbsp;&nbsp;&nbsp;&nbsp;&nbsp;&nbsp;&nbsp;&nbsp;&#127760; Combinatoria.<br>\n",
    "    &nbsp;&nbsp;&nbsp;&nbsp;&nbsp;&nbsp;&nbsp;&nbsp;&nbsp;&nbsp;&nbsp;&nbsp;&#127760; Teoría de números.<br>\n",
    "    &nbsp;&nbsp;&nbsp;&nbsp;&nbsp;&nbsp;&nbsp;&nbsp;&nbsp;&nbsp;&nbsp;&nbsp;&#127760; Cálculo de diferencias finitas.</p>\n",
    "    </td>\n",
    "    <td>\n",
    "        <p align=\"left\">&nbsp;&nbsp;&nbsp;&nbsp;&nbsp;&nbsp;&nbsp;&nbsp;&nbsp;&nbsp;&nbsp;&nbsp;&#127760; Topología.<br>\n",
    "        &nbsp;&nbsp;&nbsp;&nbsp;&nbsp;&nbsp;&nbsp;&nbsp;&nbsp;&nbsp;&nbsp;&nbsp;&#127760; Teoría de juegos.<br>\n",
    "        &nbsp;&nbsp;&nbsp;&nbsp;&nbsp;&nbsp;&nbsp;&nbsp;&nbsp;&nbsp;&nbsp;&nbsp;&#127760; Teoría de utilidades.<br>\n",
    "        &nbsp;&nbsp;&nbsp;&nbsp;&nbsp;&nbsp;&nbsp;&nbsp;&nbsp;&nbsp;&nbsp;&nbsp;&#127760; Teoría de decisiones.</p>\n",
    "    </td>\n",
    "    </tr>\n",
    "    </tbody>    \n",
    "</table>"
   ]
  },
  {
   "cell_type": "markdown",
   "metadata": {
    "slideshow": {
     "slide_type": "slide"
    }
   },
   "source": [
    "<h1>✨ Actividades para el semestre.✨</h1>\n",
    "\n",
    "<ul>\n",
    "    <li> Tareas.</li>\n",
    "    <li> Tests.</li>\n",
    "    <li> Parciales.</li>\n",
    "    <li> Trabajos con bases de datos.</li>\n",
    "    <li> Trabajo final.</li>\n",
    "    <li> ¡Pop quiz!</li>\n",
    "</ul>\n",
    "<p> Veamos primero el\n",
    "<a href=\"https://drive.google.com/file/d/1WcuZHIiMojqbB_O4_5V0huJyuRelJKHG/view?usp=sharing\">\n",
    "  plan analítico \n",
    "</a> de la clase.</p>"
   ]
  },
  {
   "cell_type": "markdown",
   "metadata": {
    "slideshow": {
     "slide_type": "subslide"
    }
   },
   "source": [
    "<h1>&#9997; Tareas.</h1>\n",
    "<p>Las tareas tendrán una periodicidad de 15 días más o menos y estarán compuestas de 10 puntos, distribuidos de la forma siguiente:</p>\n",
    "\n",
    "<ul>\n",
    "    <li> 5 puntos de aplicación del algoritmo, con un valor de 4 puntos cada uno.</li>\n",
    "    <li> 4 puntos de aplicación de definiciones, con un valor de 5 puntos cada uno.</li>\n",
    "    <li> 1 puntos retador, con un valor de 10 puntos.</li>\n",
    "</ul>\n",
    "\n",
    "<p>Para los estudiantes de matemáticas se diseñaron dos o tres puntos adicionales, los cuales son de carácter obligatorio. Estos puntos pueden remplazar algunos puntos correspondientes a la aplicación del algoritmo (los 5 primeros puntos).</p>\n",
    "\n",
    "<p>Veamos un ejemplo: <a href=\"https://drive.google.com/file/d/1QHzs-Qbi1WIx1xL_oPBNt_jdzAk66ahh/view?usp=sharing\">\n",
    " Tarea 1. </a></p>\n",
    "\n"
   ]
  },
  {
   "cell_type": "markdown",
   "metadata": {
    "slideshow": {
     "slide_type": "subslide"
    }
   },
   "source": [
    "<h2>Puntos adicionales.</h2>\n",
    "\n",
    "<p>Los puntos adicionales tienen un valor de 2 puntos por respuesta correcta. Esto da un total de cuatro o seis puntos adicionales por taller.</p>\n",
    "\n",
    "<img src=\"notas.png\">\n",
    "\n",
    "<h2>¿Cómo se presentan las tareas?</h2>\n",
    "\n",
    "<p>&nbsp;&nbsp;&nbsp;&nbsp;🚨&nbsp;Aula virtual.</p>\n",
    "<p>&nbsp;&nbsp;&nbsp;&nbsp;🚨&nbsp;En formato PDF.</p>\n",
    "<p>&nbsp;&nbsp;&nbsp;&nbsp;🚨&nbsp;Bien escaneado.</p>\n",
    "<p>&nbsp;&nbsp;&nbsp;&nbsp;🚨&nbsp;Encabezado y subtítulos. <a href=\"https://drive.google.com/file/d/1YXKXDJ9oVVlsyR8lr_HrW54Lp6AVqfKB/view?usp=sharing\">\n",
    " Ejemplo de entrega. </a></p>\n",
    " <p>&nbsp;&nbsp;&nbsp;&nbsp;🚨&nbsp;Los estudiantes de matemáticas deben entregar 3 de las 5 tareas del semestre escritas en LaTeX.</p>"
   ]
  },
  {
   "cell_type": "markdown",
   "metadata": {
    "slideshow": {
     "slide_type": "subslide"
    }
   },
   "source": [
    "<h1>📝 Tests.</h1>\n",
    "<p> Los tests tendrán una periodicidad de 15 días más o menos, con una duración de 10 minutos al iniciar la clase </p>\n",
    "<p> El test será contestado en el aula virtual usando su enlace correspondiente.</p>"
   ]
  },
  {
   "cell_type": "markdown",
   "metadata": {
    "slideshow": {
     "slide_type": "fragment"
    }
   },
   "source": [
    "<h1>📋 Parciales.</h1>\n",
    "\n",
    "<p> Son dos parciales, uno en cada corte. El primero es sobre \"conjuntos y relaciones\", y el segundo es sobre \"técnicas de conteo\". Las fechas se encuentran en el plan analítico </p>\n",
    "<p> Los dos exámenes se presentarán usando el aula virtual.</p>"
   ]
  },
  {
   "cell_type": "markdown",
   "metadata": {
    "slideshow": {
     "slide_type": "subslide"
    }
   },
   "source": [
    "<h1>📚 Trabajos con bases de datos.</h1>\n",
    "<ul>\n",
    "    <li><a href=\"https://drive.google.com/file/d/1mv5reA-FozUyPxm6UC9oBfkb4UaVIMgX/view?usp=sharing\">Trabajo con bases de datos (primer corte).</a></li>\n",
    "    <li><a href=\"https://drive.google.com/file/d/1yF27OZu6n1HTemzKggRwY0jtCAtDDJJ7/view?usp=sharing\">Trabajo con bases de datos (segundo corte).</a></li>\n",
    "</ul>"
   ]
  },
  {
   "cell_type": "markdown",
   "metadata": {
    "slideshow": {
     "slide_type": "fragment"
    }
   },
   "source": [
    "<h1>🖇 Trabajo final.</h1>\n",
    "<ul>\n",
    "    <li><a href=\"https://drive.google.com/file/d/1u_5uOxwO8Da0oAOtGT_685D6n277JK5e/view?usp=sharing\">Trabajo final.</a></li>\n",
    "</ul>"
   ]
  },
  {
   "cell_type": "markdown",
   "metadata": {
    "slideshow": {
     "slide_type": "fragment"
    }
   },
   "source": [
    "<h1>💡 ¡Pop quiz!</h1>\n",
    "<p> Son preguntas relacionadas con lo que se está viendo en la clase. Tiene como objeto verificar que los temas vistos estén quedando claros.</p>\n",
    "<p> Se preguntará a máximo tres personas. Si la respuesta es correcta, el estudiante gana 2 puntos adicionales, que puede colocar en cualquier nota.</p>"
   ]
  },
  {
   "cell_type": "markdown",
   "metadata": {
    "slideshow": {
     "slide_type": "slide"
    }
   },
   "source": [
    "<center><h1 style=\"color:#FF0000\";>¡Pop quiz!</h1></center>"
   ]
  },
  {
   "cell_type": "code",
   "execution_count": 2,
   "metadata": {
    "slideshow": {
     "slide_type": "fragment"
    }
   },
   "outputs": [
    {
     "name": "stdout",
     "output_type": "stream",
     "text": [
      "18\n"
     ]
    }
   ],
   "source": [
    "import random as rm\n",
    "print(rm.randrange(1,23,1))"
   ]
  },
  {
   "cell_type": "markdown",
   "metadata": {
    "slideshow": {
     "slide_type": "fragment"
    }
   },
   "source": [
    "<p>&#128521; ¿Cuál es el medio de entrega para las tareas?</p>"
   ]
  },
  {
   "cell_type": "markdown",
   "metadata": {
    "slideshow": {
     "slide_type": "fragment"
    }
   },
   "source": [
    "<p>&#128521; ¿Cuál es el formato en el que deben ser entregadas las tareas?</p>"
   ]
  },
  {
   "cell_type": "markdown",
   "metadata": {
    "slideshow": {
     "slide_type": "fragment"
    }
   },
   "source": [
    "<p>&#128521; ¿Es posible hacer entregas por el correo institucional?</p>"
   ]
  },
  {
   "cell_type": "markdown",
   "metadata": {
    "slideshow": {
     "slide_type": "fragment"
    }
   },
   "source": [
    "<p>&#128521; ¿Cuál es el encabezado mínimo para la entrega de las tareas?</p>"
   ]
  },
  {
   "cell_type": "markdown",
   "metadata": {
    "slideshow": {
     "slide_type": "slide"
    }
   },
   "source": [
    "<center><h1>¿Preguntas?</h1></center>"
   ]
  },
  {
   "cell_type": "markdown",
   "metadata": {
    "slideshow": {
     "slide_type": "slide"
    }
   },
   "source": [
    "<h1> 🍎 Consejo importante.</h1>\n",
    "\n",
    "<table>\n",
    "    <tbody>\n",
    "    <tr>\n",
    "        <td>\n",
    "            <h5 aling=\"left\">La curva del olvido ilustra la pérdida de retentiva con el tiempo. Un concepto relacionado es la intensidad del recuerdo, que indica cuánto se mantiene un contenido en el cerebro.</h5>\n",
    "        </td>  \n",
    "        <td>\n",
    "            <img src=\"curve.png\" aling=\"center\" width=\"800\" height=\"800\">\n",
    "            <p aling=\"center\">Imagen tomada de Wikipedia commons.</p>\n",
    "        </td>    \n",
    "    </tr> \n",
    "    </tbody>    \n",
    "</table>    "
   ]
  }
 ],
 "metadata": {
  "celltoolbar": "Slideshow",
  "kernelspec": {
   "display_name": "Python 3",
   "language": "python",
   "name": "python3"
  },
  "language_info": {
   "codemirror_mode": {
    "name": "ipython",
    "version": 3
   },
   "file_extension": ".py",
   "mimetype": "text/x-python",
   "name": "python",
   "nbconvert_exporter": "python",
   "pygments_lexer": "ipython3",
   "version": "3.8.3"
  }
 },
 "nbformat": 4,
 "nbformat_minor": 4
}
